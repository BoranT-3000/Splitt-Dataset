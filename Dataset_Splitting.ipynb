{
  "nbformat": 4,
  "nbformat_minor": 0,
  "metadata": {
    "colab": {
      "provenance": []
    },
    "kernelspec": {
      "name": "python3",
      "display_name": "Python 3"
    },
    "language_info": {
      "name": "python"
    }
  },
  "cells": [
    {
      "cell_type": "code",
      "source": [
        "from google.colab import drive\n",
        "drive.mount(\"/content/gdrive\", force_remount=True)"
      ],
      "metadata": {
        "colab": {
          "base_uri": "https://localhost:8080/"
        },
        "id": "dH7IxKb-36Wx",
        "outputId": "7e1d6e37-5235-400d-8b45-bfed207e1df5"
      },
      "execution_count": null,
      "outputs": [
        {
          "output_type": "stream",
          "name": "stdout",
          "text": [
            "Mounted at /content/gdrive\n"
          ]
        }
      ]
    },
    {
      "cell_type": "code",
      "execution_count": null,
      "metadata": {
        "colab": {
          "base_uri": "https://localhost:8080/"
        },
        "id": "dw-uAjAI2xvm",
        "outputId": "c25c414b-bd5c-4b19-9bb4-31fdae7e8473"
      },
      "outputs": [
        {
          "output_type": "stream",
          "name": "stdout",
          "text": [
            "########### Train Test Val Script started ###########\n",
            "$$$$$$$ Class Name A $$$$$$$\n",
            "Total images: 2236\n",
            "Training: 1341\n",
            "Validation: 447\n",
            "Testing: 448\n",
            "$$$$$$$ Class Name B $$$$$$$\n",
            "Total images: 2236\n",
            "Training: 1341\n",
            "Validation: 447\n",
            "Testing: 448\n",
            "$$$$$$$ Class Name C $$$$$$$\n",
            "Total images: 2236\n",
            "Training: 1341\n",
            "Validation: 447\n",
            "Testing: 448\n",
            "$$$$$$$ Class Name D $$$$$$$\n",
            "Total images: 2236\n",
            "Training: 1341\n",
            "Validation: 447\n",
            "Testing: 448\n",
            "########### Train Test Val Script Ended ###########\n"
          ]
        }
      ],
      "source": [
        "import os\n",
        "import numpy as np\n",
        "import shutil\n",
        "import pandas as pd\n",
        "\n",
        "\n",
        "def train_test_split():\n",
        "    print(\"########### Train Test Val Script started ###########\")\n",
        "    #data_csv = pd.read_csv(\"DataSet_Final.csv\") ##Use if you have classes saved in any .csv file\n",
        "\n",
        "    root_dir = '/content/gdrive/MyDrive/Mamo'\n",
        "    classes_dir = ['A', 'B', 'C', 'D']\n",
        "s\n",
        "    #for name in data_csv['names'].unique()[:10]:\n",
        "    #    classes_dir.append(name)\n",
        "\n",
        "    processed_dir = '/content/gdrive/MyDrive/Composition'\n",
        "\n",
        "    val_ratio = 0.20\n",
        "    test_ratio = 0.20\n",
        "\n",
        "    for cls in classes_dir:\n",
        "        # Creating partitions of the data after shuffeling\n",
        "        print(\"----- Class Name \" + cls + \" -----\")\n",
        "        src = processed_dir +\"//\" + cls  # Folder to copy images from\n",
        "\n",
        "        allFileNames = os.listdir(src)\n",
        "        np.random.shuffle(allFileNames)\n",
        "        train_FileNames, val_FileNames, test_FileNames = np.split(np.array(allFileNames),\n",
        "                                                                  [int(len(allFileNames) * (1 - (val_ratio + test_ratio))),\n",
        "                                                                   int(len(allFileNames) * (1 - val_ratio)),\n",
        "                                                                   ])\n",
        "\n",
        "        train_FileNames = [src + '//' + name for name in train_FileNames.tolist()]\n",
        "        val_FileNames = [src + '//' + name for name in val_FileNames.tolist()]\n",
        "        test_FileNames = [src + '//' + name for name in test_FileNames.tolist()]\n",
        "\n",
        "        print('Total images: '+ str(len(allFileNames)))\n",
        "        print('Training: '+ str(len(train_FileNames)))\n",
        "        print('Validation: '+  str(len(val_FileNames)))\n",
        "        print('Testing: '+ str(len(test_FileNames)))\n",
        "\n",
        "        # # Creating Train / Val / Test folders (One time use)\n",
        "        os.makedirs(root_dir + '/train//' + cls)\n",
        "        os.makedirs(root_dir + '/val//' + cls)\n",
        "        os.makedirs(root_dir + '/test//' + cls)\n",
        "\n",
        "        # Copy-pasting images\n",
        "        for name in train_FileNames:\n",
        "            shutil.copy(name, root_dir + '/train//' + cls)\n",
        "\n",
        "        for name in val_FileNames:\n",
        "            shutil.copy(name, root_dir + '/val//' + cls)\n",
        "\n",
        "        for name in test_FileNames:\n",
        "            shutil.copy(name, root_dir + '/test//' + cls)\n",
        "\n",
        "    print(\"########### Train Test Val Script Ended ###########\")\n",
        "\n",
        "train_test_split()"
      ]
    }
  ]
}